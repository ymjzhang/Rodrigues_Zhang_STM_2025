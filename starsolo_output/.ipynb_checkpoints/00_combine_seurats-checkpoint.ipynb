{
 "cells": [
  {
   "cell_type": "code",
   "execution_count": null,
   "id": "a5334e90-1ca7-4eab-a8fc-c209fe6f98a2",
   "metadata": {},
   "outputs": [],
   "source": [
    "library(dplyr)\n",
    "library(stringr)\n",
    "library(Seurat) # Seurat v4.1.0\n",
    "library(ggplot2)\n",
    "library(RColorBrewer)\n",
    "library(viridis)\n",
    "library(ggrepel)\n",
    "library(reshape2)\n",
    "library(ggbeeswarm)\n",
    "library(ggpubr)"
   ]
  },
  {
   "cell_type": "code",
   "execution_count": null,
   "id": "c0e8970b-f8d2-4502-baf8-26a94411177d",
   "metadata": {},
   "outputs": [],
   "source": [
    "agaq.srat = readRDS('2022_AG_AQ_MD39_GC_day14_GEX_vMaster/00_AGAQ_GC_initial_seurat.RDS')\n",
    "agaq.srat\n",
    "p.srat = readRDS('241118Lov_15pSer_day14_GEX/00_241118Lov_initial_seurat.RDS')\n",
    "p.srat"
   ]
  },
  {
   "cell_type": "code",
   "execution_count": null,
   "id": "b4b725cb-01f8-4999-bde4-d2a843c85f8c",
   "metadata": {},
   "outputs": [],
   "source": [
    "table(agaq.srat$orig.ident)"
   ]
  },
  {
   "cell_type": "code",
   "execution_count": null,
   "id": "ca43b505-eb30-4e6b-a0a3-899e0026d45f",
   "metadata": {},
   "outputs": [],
   "source": [
    "table(p.srat$orig.ident)"
   ]
  },
  {
   "cell_type": "code",
   "execution_count": null,
   "id": "2d17c427-1ae8-4e03-aba4-95bf3f486d34",
   "metadata": {},
   "outputs": [],
   "source": [
    "srat = merge(agaq.srat, p.srat)\n",
    "table(srat$orig.ident)"
   ]
  },
  {
   "cell_type": "code",
   "execution_count": null,
   "id": "1af7a969-c167-4ca2-8d8a-44152c0695d0",
   "metadata": {},
   "outputs": [],
   "source": [
    "colnames(srat@meta.data)\n",
    "head(srat@meta.data)"
   ]
  },
  {
   "cell_type": "code",
   "execution_count": null,
   "id": "9d971b0b-78e9-4b96-ae65-c5dba6eaa5ea",
   "metadata": {
    "tags": []
   },
   "outputs": [],
   "source": [
    "srat[[\"percent.mt\"]] <- PercentageFeatureSet(srat, pattern = \"^mt-\")\n"
   ]
  },
  {
   "cell_type": "code",
   "execution_count": null,
   "id": "68a181fc-492c-4fd5-954f-eecb73ad155b",
   "metadata": {
    "tags": []
   },
   "outputs": [],
   "source": [
    "srat= subset(srat, subset = nFeature_RNA>300 & percent.mt<25) \n",
    "table(srat$orig.ident)\n",
    "srat"
   ]
  },
  {
   "cell_type": "code",
   "execution_count": null,
   "id": "62016adf-5b51-4f3c-b71c-499dd3cda185",
   "metadata": {
    "tags": []
   },
   "outputs": [],
   "source": [
    "srat1 <- JoinLayers(srat)\n",
    "srat1"
   ]
  },
  {
   "cell_type": "code",
   "execution_count": null,
   "id": "e4d6b542-0944-408d-8577-8e7448f080c0",
   "metadata": {},
   "outputs": [],
   "source": [
    "saveRDS(srat1, '00_combined_seurat.RDS')"
   ]
  },
  {
   "cell_type": "code",
   "execution_count": null,
   "id": "cff28b1d-b44a-43ab-b452-61df0f626e70",
   "metadata": {},
   "outputs": [],
   "source": [
    "write.csv(srat@meta.data, '00_combined_metadata.csv')"
   ]
  },
  {
   "cell_type": "code",
   "execution_count": null,
   "id": "e95c9da1-066c-4040-8007-a38dc980afce",
   "metadata": {},
   "outputs": [],
   "source": []
  },
  {
   "cell_type": "code",
   "execution_count": null,
   "id": "d45857e7-3016-428a-a77e-0f3afaeb6e2a",
   "metadata": {
    "tags": []
   },
   "outputs": [],
   "source": [
    "agaq.srat = readRDS('2022_AG_AQ_MD39_GC_day14_GEX_vMaster/01_AGAQ_HTO_singlets.RDS')\n",
    "agaq.srat\n",
    "\n",
    "p.srat = readRDS('241118Lov_15pSer_day14_GEX/01_241118Lov_HTO_siglet.RDS')\n",
    "p.srat"
   ]
  },
  {
   "cell_type": "code",
   "execution_count": null,
   "id": "e1fcf2f7-81ff-4a2f-8c8c-fd240cbb3a1d",
   "metadata": {
    "tags": []
   },
   "outputs": [],
   "source": [
    "srat = merge(agaq.srat, p.srat)\n",
    "table(srat$orig.ident)"
   ]
  },
  {
   "cell_type": "code",
   "execution_count": null,
   "id": "a57ee7ae-ae6b-46f2-bf39-30bc3567c770",
   "metadata": {
    "tags": []
   },
   "outputs": [],
   "source": [
    "srat"
   ]
  },
  {
   "cell_type": "code",
   "execution_count": null,
   "id": "6752be52-fe5b-4eaf-b95b-a7e383a89d18",
   "metadata": {
    "tags": []
   },
   "outputs": [],
   "source": [
    "saveRDS(srat, '01_combined_HTO_multiplexed.RDS')"
   ]
  },
  {
   "cell_type": "code",
   "execution_count": null,
   "id": "5ba41110-38b4-4a1e-b36c-435010966c18",
   "metadata": {},
   "outputs": [],
   "source": []
  },
  {
   "cell_type": "code",
   "execution_count": null,
   "id": "9e6d68c0-14d7-4468-ac8d-8fc3e13ed270",
   "metadata": {},
   "outputs": [],
   "source": []
  },
  {
   "cell_type": "code",
   "execution_count": null,
   "id": "6e913c76-c87c-4f3f-9ec3-2a7e90cffbe7",
   "metadata": {},
   "outputs": [],
   "source": []
  }
 ],
 "metadata": {
  "kernelspec": {
   "display_name": "R",
   "language": "R",
   "name": "ir"
  },
  "language_info": {
   "codemirror_mode": "r",
   "file_extension": ".r",
   "mimetype": "text/x-r-source",
   "name": "R",
   "pygments_lexer": "r",
   "version": "4.3.2"
  }
 },
 "nbformat": 4,
 "nbformat_minor": 5
}
